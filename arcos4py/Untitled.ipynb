{
 "cells": [
  {
   "cell_type": "code",
   "execution_count": 4,
   "metadata": {},
   "outputs": [
    {
     "name": "stdout",
     "output_type": "stream",
     "text": [
      "Requirement already satisfied: arcos-py in /anaconda3/envs/musa-620-6/lib/python3.6/site-packages (0.1.0)\n",
      "Requirement already satisfied: fiona in /anaconda3/envs/musa-620-6/lib/python3.6/site-packages (from arcos-py) (1.8.4)\n",
      "Requirement already satisfied: requests in /anaconda3/envs/musa-620-6/lib/python3.6/site-packages (from arcos-py) (2.22.0)\n",
      "Requirement already satisfied: shapely in /anaconda3/envs/musa-620-6/lib/python3.6/site-packages (from arcos-py) (1.6.4.post1)\n",
      "Requirement already satisfied: geopandas in /anaconda3/envs/musa-620-6/lib/python3.6/site-packages (from arcos-py) (0.5.1)\n",
      "Requirement already satisfied: pandas in /anaconda3/envs/musa-620-6/lib/python3.6/site-packages (from arcos-py) (0.25.2)\n",
      "Requirement already satisfied: numpy in /anaconda3/envs/musa-620-6/lib/python3.6/site-packages (from arcos-py) (1.17.3)\n",
      "Requirement already satisfied: attrs>=17 in /anaconda3/envs/musa-620-6/lib/python3.6/site-packages (from fiona->arcos-py) (19.3.0)\n",
      "Requirement already satisfied: click<8,>=4.0 in /anaconda3/envs/musa-620-6/lib/python3.6/site-packages (from fiona->arcos-py) (7.0)\n",
      "Requirement already satisfied: cligj>=0.5 in /anaconda3/envs/musa-620-6/lib/python3.6/site-packages (from fiona->arcos-py) (0.5.0)\n",
      "Requirement already satisfied: click-plugins>=1.0 in /anaconda3/envs/musa-620-6/lib/python3.6/site-packages (from fiona->arcos-py) (1.1.1)\n",
      "Requirement already satisfied: six>=1.7 in /anaconda3/envs/musa-620-6/lib/python3.6/site-packages (from fiona->arcos-py) (1.13.0)\n",
      "Requirement already satisfied: munch in /anaconda3/envs/musa-620-6/lib/python3.6/site-packages (from fiona->arcos-py) (2.5.0)\n",
      "Requirement already satisfied: idna<2.9,>=2.5 in /anaconda3/envs/musa-620-6/lib/python3.6/site-packages (from requests->arcos-py) (2.8)\n",
      "Requirement already satisfied: certifi>=2017.4.17 in /anaconda3/envs/musa-620-6/lib/python3.6/site-packages (from requests->arcos-py) (2019.11.28)\n",
      "Requirement already satisfied: urllib3!=1.25.0,!=1.25.1,<1.26,>=1.21.1 in /anaconda3/envs/musa-620-6/lib/python3.6/site-packages (from requests->arcos-py) (1.24.2)\n",
      "Requirement already satisfied: chardet<3.1.0,>=3.0.2 in /anaconda3/envs/musa-620-6/lib/python3.6/site-packages (from requests->arcos-py) (3.0.4)\n",
      "Requirement already satisfied: pyproj in /anaconda3/envs/musa-620-6/lib/python3.6/site-packages (from geopandas->arcos-py) (1.9.6)\n",
      "Requirement already satisfied: pytz>=2017.2 in /anaconda3/envs/musa-620-6/lib/python3.6/site-packages (from pandas->arcos-py) (2019.3)\n",
      "Requirement already satisfied: python-dateutil>=2.6.1 in /anaconda3/envs/musa-620-6/lib/python3.6/site-packages (from pandas->arcos-py) (2.8.0)\n"
     ]
    }
   ],
   "source": [
    "!pip install arcos-py"
   ]
  },
  {
   "cell_type": "code",
   "execution_count": 6,
   "metadata": {},
   "outputs": [
    {
     "ename": "ModuleNotFoundError",
     "evalue": "No module named 'arcospy'",
     "output_type": "error",
     "traceback": [
      "\u001b[0;31m---------------------------------------------------------------------------\u001b[0m",
      "\u001b[0;31mModuleNotFoundError\u001b[0m                       Traceback (most recent call last)",
      "\u001b[0;32m<ipython-input-6-27d674b43c37>\u001b[0m in \u001b[0;36m<module>\u001b[0;34m\u001b[0m\n\u001b[0;32m----> 1\u001b[0;31m \u001b[0;32mfrom\u001b[0m \u001b[0marcospy\u001b[0m \u001b[0;32mimport\u001b[0m \u001b[0mraw\u001b[0m\u001b[0;34m\u001b[0m\u001b[0;34m\u001b[0m\u001b[0m\n\u001b[0m",
      "\u001b[0;31mModuleNotFoundError\u001b[0m: No module named 'arcospy'"
     ]
    }
   ],
   "source": [
    "from arcospy import raw"
   ]
  },
  {
   "cell_type": "code",
   "execution_count": null,
   "metadata": {},
   "outputs": [],
   "source": []
  }
 ],
 "metadata": {
  "kernelspec": {
   "display_name": "Python 3",
   "language": "python",
   "name": "python3"
  },
  "language_info": {
   "codemirror_mode": {
    "name": "ipython",
    "version": 3
   },
   "file_extension": ".py",
   "mimetype": "text/x-python",
   "name": "python",
   "nbconvert_exporter": "python",
   "pygments_lexer": "ipython3",
   "version": "3.6.9"
  }
 },
 "nbformat": 4,
 "nbformat_minor": 4
}
